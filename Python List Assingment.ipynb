{
 "cells": [
  {
   "cell_type": "markdown",
   "id": "3ad0d19b-a39d-478e-9539-93739aa2d7d9",
   "metadata": {},
   "source": [
    "# Ques 1: What is the syntax for adding an element to a list in python?"
   ]
  },
  {
   "cell_type": "markdown",
   "id": "8954ae26-2b25-4fbc-acf7-4a2ee355a406",
   "metadata": {},
   "source": [
    "Answer:"
   ]
  },
  {
   "cell_type": "code",
   "execution_count": 2,
   "id": "c01963a4-5615-4c43-9730-72bad2a21074",
   "metadata": {},
   "outputs": [],
   "source": [
    "l=[1,2,3,9,5,3,2]"
   ]
  },
  {
   "cell_type": "code",
   "execution_count": 3,
   "id": "177de800-8e7a-4c60-874d-08e63f7df492",
   "metadata": {},
   "outputs": [
    {
     "data": {
      "text/plain": [
       "[1, 2, 3, 9, 5, 3, 2]"
      ]
     },
     "execution_count": 3,
     "metadata": {},
     "output_type": "execute_result"
    }
   ],
   "source": [
    "l"
   ]
  },
  {
   "cell_type": "code",
   "execution_count": 5,
   "id": "b9600b22-7f0e-4554-bf06-09cb10806827",
   "metadata": {},
   "outputs": [],
   "source": [
    "l.append(5)"
   ]
  },
  {
   "cell_type": "code",
   "execution_count": 6,
   "id": "cb53a8c0-4acd-4356-8ab3-10a3fe0dd345",
   "metadata": {},
   "outputs": [
    {
     "data": {
      "text/plain": [
       "[1, 2, 3, 9, 5, 3, 2, 5]"
      ]
     },
     "execution_count": 6,
     "metadata": {},
     "output_type": "execute_result"
    }
   ],
   "source": [
    "l"
   ]
  },
  {
   "cell_type": "markdown",
   "id": "309a7385-51d9-4529-a6a9-ceae0f82dce3",
   "metadata": {},
   "source": [
    "# Ques 2: What is difference between remove() and pop() function in python?"
   ]
  },
  {
   "cell_type": "markdown",
   "id": "828dcbd1-1330-4fcc-8cdc-b3358bab5d73",
   "metadata": {},
   "source": [
    "Answer: The major difference between the pop() method and the remove() method is that the pop() method uses the index of an element to delete it while the remove() method takes the value of the element as an input argument to delete the element as we have already seen above."
   ]
  },
  {
   "cell_type": "markdown",
   "id": "87f95fca-60ce-4c8b-9326-b67915f8bf6b",
   "metadata": {},
   "source": [
    "# Ques 3: Write a python code to sort a list in desending order."
   ]
  },
  {
   "cell_type": "markdown",
   "id": "393f290c-6fac-4670-a54c-975be03b6e06",
   "metadata": {},
   "source": [
    "Answer:"
   ]
  },
  {
   "cell_type": "code",
   "execution_count": 14,
   "id": "0d9b0692-2be2-4def-8573-267cca391921",
   "metadata": {},
   "outputs": [],
   "source": [
    "l1=[5,8,8,6,5,7]"
   ]
  },
  {
   "cell_type": "code",
   "execution_count": 15,
   "id": "60445082-135d-491d-b36b-f34c6cae4979",
   "metadata": {},
   "outputs": [
    {
     "data": {
      "text/plain": [
       "[5, 8, 8, 6, 5, 7]"
      ]
     },
     "execution_count": 15,
     "metadata": {},
     "output_type": "execute_result"
    }
   ],
   "source": [
    "l1"
   ]
  },
  {
   "cell_type": "code",
   "execution_count": 19,
   "id": "858295ad-d57a-4a00-b370-d16fb28f85d5",
   "metadata": {},
   "outputs": [],
   "source": [
    "l1.sort(reverse=True)"
   ]
  },
  {
   "cell_type": "code",
   "execution_count": 20,
   "id": "48d4c5ce-43e5-49ae-8cdb-d02036efae4d",
   "metadata": {},
   "outputs": [
    {
     "data": {
      "text/plain": [
       "[8, 8, 7, 6, 5, 5]"
      ]
     },
     "execution_count": 20,
     "metadata": {},
     "output_type": "execute_result"
    }
   ],
   "source": [
    "l1"
   ]
  },
  {
   "cell_type": "markdown",
   "id": "31dd87c8-04e5-4842-a682-78505f14bce9",
   "metadata": {},
   "source": [
    "# Ques 4: Write a python code to count the number of occurences of an element in a list."
   ]
  },
  {
   "cell_type": "markdown",
   "id": "4a33bae8-9fb0-4fd1-b499-9950a78bd0d1",
   "metadata": {},
   "source": [
    "Answer:"
   ]
  },
  {
   "cell_type": "code",
   "execution_count": 21,
   "id": "7112b4a4-f1c4-4291-8426-fed89c7e8cd8",
   "metadata": {},
   "outputs": [
    {
     "data": {
      "text/plain": [
       "2"
      ]
     },
     "execution_count": 21,
     "metadata": {},
     "output_type": "execute_result"
    }
   ],
   "source": [
    "l1.count(8)"
   ]
  },
  {
   "cell_type": "markdown",
   "id": "3b5d38d3-0d31-427d-af98-fc7e3d03261d",
   "metadata": {},
   "source": [
    "# Ques 5: Write a python a code to reverse a list."
   ]
  },
  {
   "cell_type": "markdown",
   "id": "74993cfe-05c0-455d-87f8-732c015a2e45",
   "metadata": {},
   "source": [
    "Answer:"
   ]
  },
  {
   "cell_type": "code",
   "execution_count": 22,
   "id": "3660f510-a73f-402a-8b25-7190bb6f4156",
   "metadata": {},
   "outputs": [],
   "source": [
    "l1.reverse()"
   ]
  },
  {
   "cell_type": "code",
   "execution_count": 23,
   "id": "94a94530-ca71-4619-af2e-91d8238d7f5d",
   "metadata": {},
   "outputs": [
    {
     "data": {
      "text/plain": [
       "[5, 5, 6, 7, 8, 8]"
      ]
     },
     "execution_count": 23,
     "metadata": {},
     "output_type": "execute_result"
    }
   ],
   "source": [
    "l1"
   ]
  },
  {
   "cell_type": "code",
   "execution_count": null,
   "id": "c56787c9-0ee3-40fe-b7f8-a12fbe231432",
   "metadata": {},
   "outputs": [],
   "source": []
  }
 ],
 "metadata": {
  "kernelspec": {
   "display_name": "Python 3 (ipykernel)",
   "language": "python",
   "name": "python3"
  },
  "language_info": {
   "codemirror_mode": {
    "name": "ipython",
    "version": 3
   },
   "file_extension": ".py",
   "mimetype": "text/x-python",
   "name": "python",
   "nbconvert_exporter": "python",
   "pygments_lexer": "ipython3",
   "version": "3.10.8"
  }
 },
 "nbformat": 4,
 "nbformat_minor": 5
}
